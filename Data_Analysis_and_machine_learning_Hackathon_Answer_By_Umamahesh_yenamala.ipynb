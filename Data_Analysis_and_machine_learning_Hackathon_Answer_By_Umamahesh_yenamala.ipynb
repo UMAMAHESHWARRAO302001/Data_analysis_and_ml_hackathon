{
 "cells": [
  {
   "cell_type": "code",
   "execution_count": 1,
   "id": "d73a66b3",
   "metadata": {},
   "outputs": [],
   "source": [
    "import pandas as pd"
   ]
  },
  {
   "cell_type": "code",
   "execution_count": 2,
   "id": "1b640d32",
   "metadata": {},
   "outputs": [],
   "source": [
    "import numpy as np"
   ]
  },
  {
   "cell_type": "code",
   "execution_count": 127,
   "id": "9b1f7118",
   "metadata": {},
   "outputs": [],
   "source": [
    "df=pd.read_csv(\"uber_rides_data.csv\")"
   ]
  },
  {
   "cell_type": "code",
   "execution_count": 5,
   "id": "4e0ab697",
   "metadata": {},
   "outputs": [
    {
     "data": {
      "text/html": [
       "<div>\n",
       "<style scoped>\n",
       "    .dataframe tbody tr th:only-of-type {\n",
       "        vertical-align: middle;\n",
       "    }\n",
       "\n",
       "    .dataframe tbody tr th {\n",
       "        vertical-align: top;\n",
       "    }\n",
       "\n",
       "    .dataframe thead th {\n",
       "        text-align: right;\n",
       "    }\n",
       "</style>\n",
       "<table border=\"1\" class=\"dataframe\">\n",
       "  <thead>\n",
       "    <tr style=\"text-align: right;\">\n",
       "      <th></th>\n",
       "      <th>ride_id</th>\n",
       "      <th>fare_amount</th>\n",
       "      <th>pickup_datetime</th>\n",
       "      <th>pickup_longitude</th>\n",
       "      <th>pickup_latitude</th>\n",
       "      <th>dropoff_longitude</th>\n",
       "      <th>dropoff_latitude</th>\n",
       "      <th>passenger_count</th>\n",
       "    </tr>\n",
       "  </thead>\n",
       "  <tbody>\n",
       "    <tr>\n",
       "      <th>0</th>\n",
       "      <td>24238194</td>\n",
       "      <td>7.5</td>\n",
       "      <td>2015-05-07 19:52:06 UTC</td>\n",
       "      <td>-73.999817</td>\n",
       "      <td>40.738354</td>\n",
       "      <td>-73.999512</td>\n",
       "      <td>40.723217</td>\n",
       "      <td>1</td>\n",
       "    </tr>\n",
       "    <tr>\n",
       "      <th>1</th>\n",
       "      <td>27835199</td>\n",
       "      <td>7.7</td>\n",
       "      <td>2009-07-17 20:04:56 UTC</td>\n",
       "      <td>-73.994355</td>\n",
       "      <td>40.728225</td>\n",
       "      <td>-73.994710</td>\n",
       "      <td>40.750325</td>\n",
       "      <td>1</td>\n",
       "    </tr>\n",
       "    <tr>\n",
       "      <th>2</th>\n",
       "      <td>44984355</td>\n",
       "      <td>12.9</td>\n",
       "      <td>2009-08-24 21:45:00 UTC</td>\n",
       "      <td>-74.005043</td>\n",
       "      <td>40.740770</td>\n",
       "      <td>-73.962565</td>\n",
       "      <td>40.772647</td>\n",
       "      <td>1</td>\n",
       "    </tr>\n",
       "    <tr>\n",
       "      <th>3</th>\n",
       "      <td>25894730</td>\n",
       "      <td>5.3</td>\n",
       "      <td>2009-06-26 08:22:21 UTC</td>\n",
       "      <td>-73.976124</td>\n",
       "      <td>40.790844</td>\n",
       "      <td>-73.965316</td>\n",
       "      <td>40.803349</td>\n",
       "      <td>3</td>\n",
       "    </tr>\n",
       "    <tr>\n",
       "      <th>4</th>\n",
       "      <td>17610152</td>\n",
       "      <td>16.0</td>\n",
       "      <td>2014-08-28 17:47:00 UTC</td>\n",
       "      <td>-73.925023</td>\n",
       "      <td>40.744085</td>\n",
       "      <td>-73.973082</td>\n",
       "      <td>40.761247</td>\n",
       "      <td>5</td>\n",
       "    </tr>\n",
       "  </tbody>\n",
       "</table>\n",
       "</div>"
      ],
      "text/plain": [
       "    ride_id  fare_amount          pickup_datetime  pickup_longitude  \\\n",
       "0  24238194          7.5  2015-05-07 19:52:06 UTC        -73.999817   \n",
       "1  27835199          7.7  2009-07-17 20:04:56 UTC        -73.994355   \n",
       "2  44984355         12.9  2009-08-24 21:45:00 UTC        -74.005043   \n",
       "3  25894730          5.3  2009-06-26 08:22:21 UTC        -73.976124   \n",
       "4  17610152         16.0  2014-08-28 17:47:00 UTC        -73.925023   \n",
       "\n",
       "   pickup_latitude  dropoff_longitude  dropoff_latitude  passenger_count  \n",
       "0        40.738354         -73.999512         40.723217                1  \n",
       "1        40.728225         -73.994710         40.750325                1  \n",
       "2        40.740770         -73.962565         40.772647                1  \n",
       "3        40.790844         -73.965316         40.803349                3  \n",
       "4        40.744085         -73.973082         40.761247                5  "
      ]
     },
     "execution_count": 5,
     "metadata": {},
     "output_type": "execute_result"
    }
   ],
   "source": [
    "df.head()"
   ]
  },
  {
   "cell_type": "markdown",
   "id": "dbcfee86",
   "metadata": {},
   "source": [
    "## 1. What is the shape of given dataset?"
   ]
  },
  {
   "cell_type": "code",
   "execution_count": 6,
   "id": "97da1e36",
   "metadata": {},
   "outputs": [
    {
     "data": {
      "text/plain": [
       "(200000, 8)"
      ]
     },
     "execution_count": 6,
     "metadata": {},
     "output_type": "execute_result"
    }
   ],
   "source": [
    "df.shape"
   ]
  },
  {
   "cell_type": "code",
   "execution_count": 7,
   "id": "92c81c55",
   "metadata": {},
   "outputs": [
    {
     "name": "stdout",
     "output_type": "stream",
     "text": [
      "<class 'pandas.core.frame.DataFrame'>\n",
      "RangeIndex: 200000 entries, 0 to 199999\n",
      "Data columns (total 8 columns):\n",
      " #   Column             Non-Null Count   Dtype  \n",
      "---  ------             --------------   -----  \n",
      " 0   ride_id            200000 non-null  int64  \n",
      " 1   fare_amount        200000 non-null  float64\n",
      " 2   pickup_datetime    200000 non-null  object \n",
      " 3   pickup_longitude   200000 non-null  float64\n",
      " 4   pickup_latitude    200000 non-null  float64\n",
      " 5   dropoff_longitude  199999 non-null  float64\n",
      " 6   dropoff_latitude   199999 non-null  float64\n",
      " 7   passenger_count    200000 non-null  int64  \n",
      "dtypes: float64(5), int64(2), object(1)\n",
      "memory usage: 12.2+ MB\n"
     ]
    }
   ],
   "source": [
    "df.info()"
   ]
  },
  {
   "cell_type": "markdown",
   "id": "b8dea5bc",
   "metadata": {},
   "source": [
    "## 2. How many integer columns(by default) are given in the dataset?\n"
   ]
  },
  {
   "cell_type": "code",
   "execution_count": 112,
   "id": "78ce2bfc",
   "metadata": {},
   "outputs": [],
   "source": [
    "datatype_count=len(df.select_dtypes(include = ['int64']).columns)"
   ]
  },
  {
   "cell_type": "code",
   "execution_count": 113,
   "id": "1a305afe",
   "metadata": {},
   "outputs": [
    {
     "data": {
      "text/plain": [
       "2"
      ]
     },
     "execution_count": 113,
     "metadata": {},
     "output_type": "execute_result"
    }
   ],
   "source": [
    "datatype_count"
   ]
  },
  {
   "cell_type": "code",
   "execution_count": 8,
   "id": "90e02155",
   "metadata": {},
   "outputs": [
    {
     "data": {
      "text/plain": [
       "Index(['ride_id', 'fare_amount', 'pickup_datetime', 'pickup_longitude',\n",
       "       'pickup_latitude', 'dropoff_longitude', 'dropoff_latitude',\n",
       "       'passenger_count'],\n",
       "      dtype='object')"
      ]
     },
     "execution_count": 8,
     "metadata": {},
     "output_type": "execute_result"
    }
   ],
   "source": [
    "df.columns"
   ]
  },
  {
   "cell_type": "markdown",
   "id": "58ac773e",
   "metadata": {},
   "source": [
    "## 3. How many missing values exists in 'dropoff_longitude' column?"
   ]
  },
  {
   "cell_type": "code",
   "execution_count": 13,
   "id": "4b12203b",
   "metadata": {},
   "outputs": [],
   "source": [
    "a=df['dropoff_longitude'].isnull().sum()"
   ]
  },
  {
   "cell_type": "code",
   "execution_count": 14,
   "id": "f43737d1",
   "metadata": {},
   "outputs": [
    {
     "data": {
      "text/plain": [
       "1"
      ]
     },
     "execution_count": 14,
     "metadata": {},
     "output_type": "execute_result"
    }
   ],
   "source": [
    "a"
   ]
  },
  {
   "cell_type": "markdown",
   "id": "3949c914",
   "metadata": {},
   "source": [
    "## 5. Which of the following is the correct syntax to convert 'pickup_datetime' to datetime datatype?"
   ]
  },
  {
   "cell_type": "code",
   "execution_count": 115,
   "id": "de47ab1e",
   "metadata": {},
   "outputs": [],
   "source": [
    "df['pickup_datetime']=pd.to_datetime(df['pickup_datetime']) # syntax"
   ]
  },
  {
   "cell_type": "markdown",
   "id": "110328d6",
   "metadata": {},
   "source": [
    "## 4. What is the data type of ' pickup_datetime' feature in your data?\n"
   ]
  },
  {
   "cell_type": "markdown",
   "id": "7bd08e58",
   "metadata": {},
   "source": [
    "### before converting it was Object datatype"
   ]
  },
  {
   "cell_type": "code",
   "execution_count": 114,
   "id": "b827ec69",
   "metadata": {},
   "outputs": [
    {
     "data": {
      "text/plain": [
       "datetime64[ns, UTC]"
      ]
     },
     "execution_count": 114,
     "metadata": {},
     "output_type": "execute_result"
    }
   ],
   "source": [
    "df['pickup_datetime'].dtype "
   ]
  },
  {
   "cell_type": "markdown",
   "id": "3a3ec471",
   "metadata": {},
   "source": [
    "## 6. Which function can be used to remove null values from the dataframe?\n"
   ]
  },
  {
   "cell_type": "code",
   "execution_count": 117,
   "id": "0ea9a72f",
   "metadata": {},
   "outputs": [
    {
     "data": {
      "text/html": [
       "<div>\n",
       "<style scoped>\n",
       "    .dataframe tbody tr th:only-of-type {\n",
       "        vertical-align: middle;\n",
       "    }\n",
       "\n",
       "    .dataframe tbody tr th {\n",
       "        vertical-align: top;\n",
       "    }\n",
       "\n",
       "    .dataframe thead th {\n",
       "        text-align: right;\n",
       "    }\n",
       "</style>\n",
       "<table border=\"1\" class=\"dataframe\">\n",
       "  <thead>\n",
       "    <tr style=\"text-align: right;\">\n",
       "      <th></th>\n",
       "      <th>ride_id</th>\n",
       "      <th>fare_amount</th>\n",
       "      <th>pickup_datetime</th>\n",
       "      <th>pickup_longitude</th>\n",
       "      <th>pickup_latitude</th>\n",
       "      <th>dropoff_longitude</th>\n",
       "      <th>dropoff_latitude</th>\n",
       "      <th>passenger_count</th>\n",
       "      <th>Haversine_distance</th>\n",
       "    </tr>\n",
       "  </thead>\n",
       "  <tbody>\n",
       "    <tr>\n",
       "      <th>0</th>\n",
       "      <td>24238194</td>\n",
       "      <td>7.5</td>\n",
       "      <td>2015-05-07 19:52:06+00:00</td>\n",
       "      <td>-73.999817</td>\n",
       "      <td>40.738354</td>\n",
       "      <td>-73.999512</td>\n",
       "      <td>40.723217</td>\n",
       "      <td>1</td>\n",
       "      <td>1.044594</td>\n",
       "    </tr>\n",
       "    <tr>\n",
       "      <th>1</th>\n",
       "      <td>27835199</td>\n",
       "      <td>7.7</td>\n",
       "      <td>2009-07-17 20:04:56+00:00</td>\n",
       "      <td>-73.994355</td>\n",
       "      <td>40.728225</td>\n",
       "      <td>-73.994710</td>\n",
       "      <td>40.750325</td>\n",
       "      <td>1</td>\n",
       "      <td>1.525071</td>\n",
       "    </tr>\n",
       "    <tr>\n",
       "      <th>2</th>\n",
       "      <td>44984355</td>\n",
       "      <td>12.9</td>\n",
       "      <td>2009-08-24 21:45:00+00:00</td>\n",
       "      <td>-74.005043</td>\n",
       "      <td>40.740770</td>\n",
       "      <td>-73.962565</td>\n",
       "      <td>40.772647</td>\n",
       "      <td>1</td>\n",
       "      <td>3.131464</td>\n",
       "    </tr>\n",
       "    <tr>\n",
       "      <th>3</th>\n",
       "      <td>25894730</td>\n",
       "      <td>5.3</td>\n",
       "      <td>2009-06-26 08:22:21+00:00</td>\n",
       "      <td>-73.976124</td>\n",
       "      <td>40.790844</td>\n",
       "      <td>-73.965316</td>\n",
       "      <td>40.803349</td>\n",
       "      <td>3</td>\n",
       "      <td>1.032372</td>\n",
       "    </tr>\n",
       "    <tr>\n",
       "      <th>4</th>\n",
       "      <td>17610152</td>\n",
       "      <td>16.0</td>\n",
       "      <td>2014-08-28 17:47:00+00:00</td>\n",
       "      <td>-73.925023</td>\n",
       "      <td>40.744085</td>\n",
       "      <td>-73.973082</td>\n",
       "      <td>40.761247</td>\n",
       "      <td>5</td>\n",
       "      <td>2.786061</td>\n",
       "    </tr>\n",
       "    <tr>\n",
       "      <th>...</th>\n",
       "      <td>...</td>\n",
       "      <td>...</td>\n",
       "      <td>...</td>\n",
       "      <td>...</td>\n",
       "      <td>...</td>\n",
       "      <td>...</td>\n",
       "      <td>...</td>\n",
       "      <td>...</td>\n",
       "      <td>...</td>\n",
       "    </tr>\n",
       "    <tr>\n",
       "      <th>199995</th>\n",
       "      <td>42598914</td>\n",
       "      <td>3.0</td>\n",
       "      <td>2012-10-28 10:49:00+00:00</td>\n",
       "      <td>-73.987042</td>\n",
       "      <td>40.739367</td>\n",
       "      <td>-73.986525</td>\n",
       "      <td>40.740297</td>\n",
       "      <td>1</td>\n",
       "      <td>0.069673</td>\n",
       "    </tr>\n",
       "    <tr>\n",
       "      <th>199996</th>\n",
       "      <td>16382965</td>\n",
       "      <td>7.5</td>\n",
       "      <td>2014-03-14 01:09:00+00:00</td>\n",
       "      <td>-73.984722</td>\n",
       "      <td>40.736837</td>\n",
       "      <td>-74.006672</td>\n",
       "      <td>40.739620</td>\n",
       "      <td>1</td>\n",
       "      <td>1.167951</td>\n",
       "    </tr>\n",
       "    <tr>\n",
       "      <th>199997</th>\n",
       "      <td>27804658</td>\n",
       "      <td>30.9</td>\n",
       "      <td>2009-06-29 00:42:00+00:00</td>\n",
       "      <td>-73.986017</td>\n",
       "      <td>40.756487</td>\n",
       "      <td>-73.858957</td>\n",
       "      <td>40.692588</td>\n",
       "      <td>2</td>\n",
       "      <td>7.995752</td>\n",
       "    </tr>\n",
       "    <tr>\n",
       "      <th>199998</th>\n",
       "      <td>20259894</td>\n",
       "      <td>14.5</td>\n",
       "      <td>2015-05-20 14:56:25+00:00</td>\n",
       "      <td>-73.997124</td>\n",
       "      <td>40.725452</td>\n",
       "      <td>-73.983215</td>\n",
       "      <td>40.695416</td>\n",
       "      <td>1</td>\n",
       "      <td>2.197511</td>\n",
       "    </tr>\n",
       "    <tr>\n",
       "      <th>199999</th>\n",
       "      <td>11951496</td>\n",
       "      <td>14.1</td>\n",
       "      <td>2010-05-15 04:08:00+00:00</td>\n",
       "      <td>-73.984395</td>\n",
       "      <td>40.720077</td>\n",
       "      <td>-73.985508</td>\n",
       "      <td>40.768793</td>\n",
       "      <td>1</td>\n",
       "      <td>3.362040</td>\n",
       "    </tr>\n",
       "  </tbody>\n",
       "</table>\n",
       "<p>199994 rows × 9 columns</p>\n",
       "</div>"
      ],
      "text/plain": [
       "         ride_id  fare_amount           pickup_datetime  pickup_longitude  \\\n",
       "0       24238194          7.5 2015-05-07 19:52:06+00:00        -73.999817   \n",
       "1       27835199          7.7 2009-07-17 20:04:56+00:00        -73.994355   \n",
       "2       44984355         12.9 2009-08-24 21:45:00+00:00        -74.005043   \n",
       "3       25894730          5.3 2009-06-26 08:22:21+00:00        -73.976124   \n",
       "4       17610152         16.0 2014-08-28 17:47:00+00:00        -73.925023   \n",
       "...          ...          ...                       ...               ...   \n",
       "199995  42598914          3.0 2012-10-28 10:49:00+00:00        -73.987042   \n",
       "199996  16382965          7.5 2014-03-14 01:09:00+00:00        -73.984722   \n",
       "199997  27804658         30.9 2009-06-29 00:42:00+00:00        -73.986017   \n",
       "199998  20259894         14.5 2015-05-20 14:56:25+00:00        -73.997124   \n",
       "199999  11951496         14.1 2010-05-15 04:08:00+00:00        -73.984395   \n",
       "\n",
       "        pickup_latitude  dropoff_longitude  dropoff_latitude  passenger_count  \\\n",
       "0             40.738354         -73.999512         40.723217                1   \n",
       "1             40.728225         -73.994710         40.750325                1   \n",
       "2             40.740770         -73.962565         40.772647                1   \n",
       "3             40.790844         -73.965316         40.803349                3   \n",
       "4             40.744085         -73.973082         40.761247                5   \n",
       "...                 ...                ...               ...              ...   \n",
       "199995        40.739367         -73.986525         40.740297                1   \n",
       "199996        40.736837         -74.006672         40.739620                1   \n",
       "199997        40.756487         -73.858957         40.692588                2   \n",
       "199998        40.725452         -73.983215         40.695416                1   \n",
       "199999        40.720077         -73.985508         40.768793                1   \n",
       "\n",
       "        Haversine_distance  \n",
       "0                 1.044594  \n",
       "1                 1.525071  \n",
       "2                 3.131464  \n",
       "3                 1.032372  \n",
       "4                 2.786061  \n",
       "...                    ...  \n",
       "199995            0.069673  \n",
       "199996            1.167951  \n",
       "199997            7.995752  \n",
       "199998            2.197511  \n",
       "199999            3.362040  \n",
       "\n",
       "[199994 rows x 9 columns]"
      ]
     },
     "execution_count": 117,
     "metadata": {},
     "output_type": "execute_result"
    }
   ],
   "source": [
    "df.dropna()"
   ]
  },
  {
   "cell_type": "code",
   "execution_count": 140,
   "id": "bf0e6934",
   "metadata": {},
   "outputs": [
    {
     "name": "stdout",
     "output_type": "stream",
     "text": [
      "Requirement already satisfied: geopy in c:\\users\\dell\\anaconda3\\lib\\site-packages (2.4.0)\n",
      "Requirement already satisfied: geographiclib<3,>=1.52 in c:\\users\\dell\\anaconda3\\lib\\site-packages (from geopy) (2.0)\n",
      "Note: you may need to restart the kernel to use updated packages.\n"
     ]
    }
   ],
   "source": [
    "pip install geopy\n"
   ]
  },
  {
   "cell_type": "code",
   "execution_count": 141,
   "id": "54c4eeeb",
   "metadata": {},
   "outputs": [],
   "source": [
    "from geopy.distance import geodesic"
   ]
  },
  {
   "cell_type": "code",
   "execution_count": 142,
   "id": "9ae92294",
   "metadata": {},
   "outputs": [],
   "source": [
    "b = b[(b['pickup_latitude'] >= -90) & (b['pickup_latitude'] <= 90)]\n",
    "b = b[(b['dropoff_latitude'] >= -90) & (b['dropoff_latitude'] <= 90)]"
   ]
  },
  {
   "cell_type": "code",
   "execution_count": 143,
   "id": "c1efad19",
   "metadata": {},
   "outputs": [],
   "source": [
    "def haversine_distance(row):\n",
    "    pickup_coords = (row['pickup_latitude'], row['pickup_longitude'])\n",
    "    dropoff_coords = (row['dropoff_latitude'], row['dropoff_longitude'])\n",
    "    return geodesic(pickup_coords, dropoff_coords).miles\n"
   ]
  },
  {
   "cell_type": "code",
   "execution_count": 144,
   "id": "7e599272",
   "metadata": {},
   "outputs": [],
   "source": [
    "b['Haversine_distance'] = b.apply(haversine_distance, axis=1)\n"
   ]
  },
  {
   "cell_type": "code",
   "execution_count": 146,
   "id": "c41740d3",
   "metadata": {},
   "outputs": [
    {
     "data": {
      "text/plain": [
       "5457.871964202999"
      ]
     },
     "execution_count": 146,
     "metadata": {},
     "output_type": "execute_result"
    }
   ],
   "source": [
    "b['Haversine_distance'].max()"
   ]
  },
  {
   "cell_type": "markdown",
   "id": "dcbf40ae",
   "metadata": {},
   "source": [
    "## 7.What is the average fare amount? Remove the null values from the dataframe to answer the following question."
   ]
  },
  {
   "cell_type": "code",
   "execution_count": 151,
   "id": "caf5bb9d",
   "metadata": {},
   "outputs": [],
   "source": [
    "distance_rides = b[b['Haversine_distance'] == 0.0]"
   ]
  },
  {
   "cell_type": "code",
   "execution_count": 152,
   "id": "6bc207a6",
   "metadata": {},
   "outputs": [
    {
     "data": {
      "text/plain": [
       "11.585317826704578"
      ]
     },
     "execution_count": 152,
     "metadata": {},
     "output_type": "execute_result"
    }
   ],
   "source": [
    "zero_distance_rides['fare_amount'].mean()"
   ]
  },
  {
   "cell_type": "markdown",
   "id": "ef7028ac",
   "metadata": {},
   "source": [
    "## 8. Calculate distance between each pickup and dropoff points using Haversine formula. What is the median haversine distance between pickup and dropoff location according to the given dataset? Read about Haversine Distance here: https://en.wikipedia.org/wiki/Haversine_formula"
   ]
  },
  {
   "cell_type": "code",
   "execution_count": 119,
   "id": "bbe261bf",
   "metadata": {},
   "outputs": [],
   "source": [
    "\n",
    "def haversine(lat1, lon1, lat2, lon2):\n",
    "    lat1, lon1, lat2, lon2 = map(np.radians, [lat1, lon1, lat2, lon2])\n",
    "\n",
    "    # Haversine formula\n",
    "    dlon = lon2 - lon1\n",
    "    dlat = lat2 - lat1\n",
    "    a = np.sin(dlat/2.0)**2 + np.cos(lat1) * np.cos(lat2) * np.sin(dlon/2.0)**2\n",
    "    c = 2 * np.arcsin(np.sqrt(a))\n",
    "    km = 6371 * c\n",
    "    return km"
   ]
  },
  {
   "cell_type": "code",
   "execution_count": 120,
   "id": "5b3329a2",
   "metadata": {},
   "outputs": [
    {
     "data": {
      "text/plain": [
       "2.120916460215386"
      ]
     },
     "execution_count": 120,
     "metadata": {},
     "output_type": "execute_result"
    }
   ],
   "source": [
    "\n",
    "# Calculate Haversine distances for each row\n",
    "df['haversine_distance'] = haversine(df['pickup_latitude'], df['pickup_longitude'], df['dropoff_latitude'], df['dropoff_longitude'])\n",
    "\n",
    "# Calculate the median Haversine distance\n",
    "df['haversine_distance'].median()"
   ]
  },
  {
   "cell_type": "markdown",
   "id": "6eba4522",
   "metadata": {},
   "source": [
    "## 9. What is the maximum haversine distance between pickup and dropoff location according to the given dataset?"
   ]
  },
  {
   "cell_type": "code",
   "execution_count": null,
   "id": "bfedd47a",
   "metadata": {},
   "outputs": [],
   "source": [
    "df['haversine_distance'].max()"
   ]
  },
  {
   "cell_type": "code",
   "execution_count": null,
   "id": "2cd5452c",
   "metadata": {},
   "outputs": [],
   "source": [
    "16409.239135313168"
   ]
  },
  {
   "cell_type": "markdown",
   "id": "57a01600",
   "metadata": {},
   "source": [
    "## 10. How many rides have 0.0 haversine distance between pickup and dropoff location according to the given dataset?"
   ]
  },
  {
   "cell_type": "code",
   "execution_count": 154,
   "id": "c6d24e7c",
   "metadata": {},
   "outputs": [],
   "source": [
    "distance_rides = b[b['Haversine_distance'] == 0.0]\n",
    "count_distance_rides = len(zero_distance_rides)"
   ]
  },
  {
   "cell_type": "code",
   "execution_count": 155,
   "id": "166477cf",
   "metadata": {},
   "outputs": [
    {
     "data": {
      "text/plain": [
       "5632"
      ]
     },
     "execution_count": 155,
     "metadata": {},
     "output_type": "execute_result"
    }
   ],
   "source": [
    "count_distance_rides"
   ]
  },
  {
   "cell_type": "markdown",
   "id": "8301c409",
   "metadata": {},
   "source": [
    "## 11. What is the mean 'fare_amount' for rides with 0 haversine distance? Do you sense something fishy? Try to analyze, and give your expert opinion in Jupyter Notebook."
   ]
  },
  {
   "cell_type": "code",
   "execution_count": 156,
   "id": "91465561",
   "metadata": {},
   "outputs": [],
   "source": [
    "distance_rides = b[b['Haversine_distance'] == 0.0]"
   ]
  },
  {
   "cell_type": "code",
   "execution_count": 157,
   "id": "763bdc58",
   "metadata": {},
   "outputs": [
    {
     "data": {
      "text/plain": [
       "11.585317826704578"
      ]
     },
     "execution_count": 157,
     "metadata": {},
     "output_type": "execute_result"
    }
   ],
   "source": [
    "zero_distance_rides['fare_amount'].mean()"
   ]
  },
  {
   "cell_type": "markdown",
   "id": "8fc00856",
   "metadata": {},
   "source": [
    "## 12. What is the maximum 'fare_amount' for a ride?"
   ]
  },
  {
   "cell_type": "code",
   "execution_count": 125,
   "id": "ed71df76",
   "metadata": {},
   "outputs": [
    {
     "data": {
      "text/plain": [
       "499.0"
      ]
     },
     "execution_count": 125,
     "metadata": {},
     "output_type": "execute_result"
    }
   ],
   "source": [
    "df['fare_amount'].max()"
   ]
  },
  {
   "cell_type": "markdown",
   "id": "a8459281",
   "metadata": {},
   "source": [
    "## 13. What is the haversine distance between pickup and dropoff location for the costliest ride? Do you sense something fishy? Try to analyze, and give your expert opinion in Jupyter Notebook."
   ]
  },
  {
   "cell_type": "code",
   "execution_count": 158,
   "id": "cedf6980",
   "metadata": {},
   "outputs": [
    {
     "data": {
      "text/plain": [
       "0.0007899213191009994"
      ]
     },
     "execution_count": 158,
     "metadata": {},
     "output_type": "execute_result"
    }
   ],
   "source": [
    "\n",
    "costliest_ride = b[b['fare_amount'] == b['fare_amount'].max()]\n",
    "\n",
    "# Calculate Haversine distances for each row\n",
    "haversine_distance = haversine(costliest_ride['pickup_latitude'].values[0], costliest_ride['pickup_longitude'].values[0],\n",
    "                                      costliest_ride['dropoff_latitude'].values[0], costliest_ride['dropoff_longitude'].values[0])\n",
    "\n",
    "\n",
    "haversine_distance"
   ]
  },
  {
   "cell_type": "markdown",
   "id": "ede03690",
   "metadata": {},
   "source": [
    "## 14. How many rides were recorded in the year 2014?"
   ]
  },
  {
   "cell_type": "code",
   "execution_count": 74,
   "id": "1dded5a2",
   "metadata": {},
   "outputs": [],
   "source": [
    "df['pickup_datetime'] = pd.to_datetime(df['pickup_datetime'])"
   ]
  },
  {
   "cell_type": "code",
   "execution_count": 76,
   "id": "a0ebd73a",
   "metadata": {},
   "outputs": [],
   "source": [
    "rides_2014 = df[df['pickup_datetime'].dt.year == 2014]"
   ]
  },
  {
   "cell_type": "code",
   "execution_count": 78,
   "id": "f00d915d",
   "metadata": {},
   "outputs": [
    {
     "data": {
      "text/plain": [
       "29968"
      ]
     },
     "execution_count": 78,
     "metadata": {},
     "output_type": "execute_result"
    }
   ],
   "source": [
    "len(rides_2014)"
   ]
  },
  {
   "cell_type": "markdown",
   "id": "22dd9bb1",
   "metadata": {},
   "source": [
    "## 15. How many rides were recorded in the first quarter of 2014?\n"
   ]
  },
  {
   "cell_type": "code",
   "execution_count": 80,
   "id": "bee7ffde",
   "metadata": {},
   "outputs": [],
   "source": [
    "first_quarter_2014 = df[(df['pickup_datetime'].dt.year == 2014) & (df['pickup_datetime'].dt.quarter == 1)]"
   ]
  },
  {
   "cell_type": "code",
   "execution_count": 82,
   "id": "5d143672",
   "metadata": {},
   "outputs": [
    {
     "data": {
      "text/plain": [
       "7687"
      ]
     },
     "execution_count": 82,
     "metadata": {},
     "output_type": "execute_result"
    }
   ],
   "source": [
    "len(first_quarter_2014)"
   ]
  },
  {
   "cell_type": "markdown",
   "id": "75dc6336",
   "metadata": {},
   "source": [
    "## 16. On which day of the week in September 2010, maximum rides were recorded ?"
   ]
  },
  {
   "cell_type": "code",
   "execution_count": 86,
   "id": "e69bd583",
   "metadata": {},
   "outputs": [],
   "source": [
    "september_2010_rides = df[(df['pickup_datetime'].dt.year == 2010) & (df['pickup_datetime'].dt.month == 9)]"
   ]
  },
  {
   "cell_type": "code",
   "execution_count": 87,
   "id": "d1ee69f3",
   "metadata": {},
   "outputs": [
    {
     "data": {
      "text/html": [
       "<div>\n",
       "<style scoped>\n",
       "    .dataframe tbody tr th:only-of-type {\n",
       "        vertical-align: middle;\n",
       "    }\n",
       "\n",
       "    .dataframe tbody tr th {\n",
       "        vertical-align: top;\n",
       "    }\n",
       "\n",
       "    .dataframe thead th {\n",
       "        text-align: right;\n",
       "    }\n",
       "</style>\n",
       "<table border=\"1\" class=\"dataframe\">\n",
       "  <thead>\n",
       "    <tr style=\"text-align: right;\">\n",
       "      <th></th>\n",
       "      <th>ride_id</th>\n",
       "      <th>fare_amount</th>\n",
       "      <th>pickup_datetime</th>\n",
       "      <th>pickup_longitude</th>\n",
       "      <th>pickup_latitude</th>\n",
       "      <th>dropoff_longitude</th>\n",
       "      <th>dropoff_latitude</th>\n",
       "      <th>passenger_count</th>\n",
       "      <th>Haversine_distance</th>\n",
       "    </tr>\n",
       "  </thead>\n",
       "  <tbody>\n",
       "    <tr>\n",
       "      <th>23</th>\n",
       "      <td>25121708</td>\n",
       "      <td>7.7</td>\n",
       "      <td>2010-09-04 16:12:00+00:00</td>\n",
       "      <td>-73.994300</td>\n",
       "      <td>40.739512</td>\n",
       "      <td>-73.988070</td>\n",
       "      <td>40.724482</td>\n",
       "      <td>2</td>\n",
       "      <td>1.087442</td>\n",
       "    </tr>\n",
       "    <tr>\n",
       "      <th>85</th>\n",
       "      <td>11536406</td>\n",
       "      <td>7.7</td>\n",
       "      <td>2010-09-08 10:16:01+00:00</td>\n",
       "      <td>-73.987383</td>\n",
       "      <td>40.721255</td>\n",
       "      <td>-73.954733</td>\n",
       "      <td>40.730683</td>\n",
       "      <td>1</td>\n",
       "      <td>1.833275</td>\n",
       "    </tr>\n",
       "    <tr>\n",
       "      <th>87</th>\n",
       "      <td>11267091</td>\n",
       "      <td>4.5</td>\n",
       "      <td>2010-09-22 12:15:00+00:00</td>\n",
       "      <td>-73.981920</td>\n",
       "      <td>40.761172</td>\n",
       "      <td>-74.016152</td>\n",
       "      <td>40.704765</td>\n",
       "      <td>1</td>\n",
       "      <td>4.286955</td>\n",
       "    </tr>\n",
       "    <tr>\n",
       "      <th>126</th>\n",
       "      <td>8791172</td>\n",
       "      <td>5.3</td>\n",
       "      <td>2010-09-21 12:38:00+00:00</td>\n",
       "      <td>-73.956158</td>\n",
       "      <td>40.781593</td>\n",
       "      <td>-73.966138</td>\n",
       "      <td>40.773645</td>\n",
       "      <td>1</td>\n",
       "      <td>0.758175</td>\n",
       "    </tr>\n",
       "    <tr>\n",
       "      <th>129</th>\n",
       "      <td>30203807</td>\n",
       "      <td>10.5</td>\n",
       "      <td>2010-09-10 16:28:00+00:00</td>\n",
       "      <td>-73.995627</td>\n",
       "      <td>40.749295</td>\n",
       "      <td>-73.965087</td>\n",
       "      <td>40.771610</td>\n",
       "      <td>1</td>\n",
       "      <td>2.222291</td>\n",
       "    </tr>\n",
       "    <tr>\n",
       "      <th>...</th>\n",
       "      <td>...</td>\n",
       "      <td>...</td>\n",
       "      <td>...</td>\n",
       "      <td>...</td>\n",
       "      <td>...</td>\n",
       "      <td>...</td>\n",
       "      <td>...</td>\n",
       "      <td>...</td>\n",
       "      <td>...</td>\n",
       "    </tr>\n",
       "    <tr>\n",
       "      <th>199584</th>\n",
       "      <td>52152685</td>\n",
       "      <td>4.5</td>\n",
       "      <td>2010-09-02 02:07:00+00:00</td>\n",
       "      <td>-73.995380</td>\n",
       "      <td>40.721638</td>\n",
       "      <td>-73.988308</td>\n",
       "      <td>40.731667</td>\n",
       "      <td>1</td>\n",
       "      <td>0.785315</td>\n",
       "    </tr>\n",
       "    <tr>\n",
       "      <th>199665</th>\n",
       "      <td>44243859</td>\n",
       "      <td>8.5</td>\n",
       "      <td>2010-09-04 21:05:00+00:00</td>\n",
       "      <td>-74.001550</td>\n",
       "      <td>40.741060</td>\n",
       "      <td>-73.995810</td>\n",
       "      <td>40.739425</td>\n",
       "      <td>3</td>\n",
       "      <td>0.321690</td>\n",
       "    </tr>\n",
       "    <tr>\n",
       "      <th>199851</th>\n",
       "      <td>37613854</td>\n",
       "      <td>11.7</td>\n",
       "      <td>2010-09-13 14:46:00+00:00</td>\n",
       "      <td>-74.009923</td>\n",
       "      <td>40.714860</td>\n",
       "      <td>-74.007020</td>\n",
       "      <td>40.705720</td>\n",
       "      <td>1</td>\n",
       "      <td>0.648839</td>\n",
       "    </tr>\n",
       "    <tr>\n",
       "      <th>199862</th>\n",
       "      <td>5095334</td>\n",
       "      <td>6.9</td>\n",
       "      <td>2010-09-30 11:29:20+00:00</td>\n",
       "      <td>-73.976584</td>\n",
       "      <td>40.757000</td>\n",
       "      <td>-73.991153</td>\n",
       "      <td>40.765653</td>\n",
       "      <td>1</td>\n",
       "      <td>0.969953</td>\n",
       "    </tr>\n",
       "    <tr>\n",
       "      <th>199901</th>\n",
       "      <td>19337978</td>\n",
       "      <td>8.9</td>\n",
       "      <td>2010-09-22 08:19:31+00:00</td>\n",
       "      <td>-73.930492</td>\n",
       "      <td>40.761509</td>\n",
       "      <td>-73.963917</td>\n",
       "      <td>40.759702</td>\n",
       "      <td>1</td>\n",
       "      <td>1.758166</td>\n",
       "    </tr>\n",
       "  </tbody>\n",
       "</table>\n",
       "<p>2482 rows × 9 columns</p>\n",
       "</div>"
      ],
      "text/plain": [
       "         ride_id  fare_amount           pickup_datetime  pickup_longitude  \\\n",
       "23      25121708          7.7 2010-09-04 16:12:00+00:00        -73.994300   \n",
       "85      11536406          7.7 2010-09-08 10:16:01+00:00        -73.987383   \n",
       "87      11267091          4.5 2010-09-22 12:15:00+00:00        -73.981920   \n",
       "126      8791172          5.3 2010-09-21 12:38:00+00:00        -73.956158   \n",
       "129     30203807         10.5 2010-09-10 16:28:00+00:00        -73.995627   \n",
       "...          ...          ...                       ...               ...   \n",
       "199584  52152685          4.5 2010-09-02 02:07:00+00:00        -73.995380   \n",
       "199665  44243859          8.5 2010-09-04 21:05:00+00:00        -74.001550   \n",
       "199851  37613854         11.7 2010-09-13 14:46:00+00:00        -74.009923   \n",
       "199862   5095334          6.9 2010-09-30 11:29:20+00:00        -73.976584   \n",
       "199901  19337978          8.9 2010-09-22 08:19:31+00:00        -73.930492   \n",
       "\n",
       "        pickup_latitude  dropoff_longitude  dropoff_latitude  passenger_count  \\\n",
       "23            40.739512         -73.988070         40.724482                2   \n",
       "85            40.721255         -73.954733         40.730683                1   \n",
       "87            40.761172         -74.016152         40.704765                1   \n",
       "126           40.781593         -73.966138         40.773645                1   \n",
       "129           40.749295         -73.965087         40.771610                1   \n",
       "...                 ...                ...               ...              ...   \n",
       "199584        40.721638         -73.988308         40.731667                1   \n",
       "199665        40.741060         -73.995810         40.739425                3   \n",
       "199851        40.714860         -74.007020         40.705720                1   \n",
       "199862        40.757000         -73.991153         40.765653                1   \n",
       "199901        40.761509         -73.963917         40.759702                1   \n",
       "\n",
       "        Haversine_distance  \n",
       "23                1.087442  \n",
       "85                1.833275  \n",
       "87                4.286955  \n",
       "126               0.758175  \n",
       "129               2.222291  \n",
       "...                    ...  \n",
       "199584            0.785315  \n",
       "199665            0.321690  \n",
       "199851            0.648839  \n",
       "199862            0.969953  \n",
       "199901            1.758166  \n",
       "\n",
       "[2482 rows x 9 columns]"
      ]
     },
     "execution_count": 87,
     "metadata": {},
     "output_type": "execute_result"
    }
   ],
   "source": [
    "september_2010_rides"
   ]
  },
  {
   "cell_type": "code",
   "execution_count": 88,
   "id": "32130722",
   "metadata": {},
   "outputs": [],
   "source": [
    "rides_by_day_of_week = september_2010_rides['pickup_datetime'].dt.day_name().value_counts()"
   ]
  },
  {
   "cell_type": "code",
   "execution_count": 89,
   "id": "708ada3d",
   "metadata": {},
   "outputs": [
    {
     "data": {
      "text/plain": [
       "Thursday     457\n",
       "Wednesday    391\n",
       "Saturday     362\n",
       "Friday       354\n",
       "Sunday       331\n",
       "Tuesday      322\n",
       "Monday       265\n",
       "Name: pickup_datetime, dtype: int64"
      ]
     },
     "execution_count": 89,
     "metadata": {},
     "output_type": "execute_result"
    }
   ],
   "source": [
    "rides_by_day_of_week"
   ]
  },
  {
   "cell_type": "code",
   "execution_count": 90,
   "id": "e5f2d393",
   "metadata": {},
   "outputs": [],
   "source": [
    "max_rides_day = rides_by_day_of_week.idxmax()"
   ]
  },
  {
   "cell_type": "code",
   "execution_count": 91,
   "id": "4dffacbf",
   "metadata": {},
   "outputs": [
    {
     "data": {
      "text/plain": [
       "'Thursday'"
      ]
     },
     "execution_count": 91,
     "metadata": {},
     "output_type": "execute_result"
    }
   ],
   "source": [
    "max_rides_day"
   ]
  },
  {
   "cell_type": "code",
   "execution_count": 92,
   "id": "df55d8dd",
   "metadata": {},
   "outputs": [],
   "source": [
    "max_rides_count = rides_by_day_of_week.max()"
   ]
  },
  {
   "cell_type": "code",
   "execution_count": 93,
   "id": "8fa891ea",
   "metadata": {},
   "outputs": [
    {
     "data": {
      "text/plain": [
       "457"
      ]
     },
     "execution_count": 93,
     "metadata": {},
     "output_type": "execute_result"
    }
   ],
   "source": [
    "max_rides_count"
   ]
  },
  {
   "cell_type": "code",
   "execution_count": 94,
   "id": "7b8d0fa2",
   "metadata": {},
   "outputs": [
    {
     "data": {
      "text/plain": [
       "Index(['ride_id', 'fare_amount', 'pickup_datetime', 'pickup_longitude',\n",
       "       'pickup_latitude', 'dropoff_longitude', 'dropoff_latitude',\n",
       "       'passenger_count', 'Haversine_distance'],\n",
       "      dtype='object')"
      ]
     },
     "execution_count": 94,
     "metadata": {},
     "output_type": "execute_result"
    }
   ],
   "source": [
    "df.columns"
   ]
  },
  {
   "cell_type": "code",
   "execution_count": null,
   "id": "bfbfbb10",
   "metadata": {},
   "outputs": [],
   "source": []
  }
 ],
 "metadata": {
  "kernelspec": {
   "display_name": "Python 3 (ipykernel)",
   "language": "python",
   "name": "python3"
  },
  "language_info": {
   "codemirror_mode": {
    "name": "ipython",
    "version": 3
   },
   "file_extension": ".py",
   "mimetype": "text/x-python",
   "name": "python",
   "nbconvert_exporter": "python",
   "pygments_lexer": "ipython3",
   "version": "3.9.7"
  }
 },
 "nbformat": 4,
 "nbformat_minor": 5
}
